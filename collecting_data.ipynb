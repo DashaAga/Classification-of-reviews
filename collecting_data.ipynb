{
 "cells": [
  {
   "cell_type": "markdown",
   "metadata": {},
   "source": [
    "# Импортируем необходимые библиотеки"
   ]
  },
  {
   "cell_type": "code",
   "execution_count": 384,
   "metadata": {},
   "outputs": [],
   "source": [
    "import requests\n",
    "from bs4 import BeautifulSoup as bs\n",
    "import pandas as pd\n",
    "import csv\n",
    "import re\n",
    "import numpy as np\n",
    "import pickle\n",
    "from nltk.tokenize import word_tokenize\n",
    "from nltk.stem.snowball import SnowballStemmer\n",
    "from nltk.corpus import stopwords\n",
    "import matplotlib.pyplot as plt\n",
    "import seaborn as sns\n",
    "from sklearn.neural_network import MLPClassifier\n",
    "from sklearn.neighbors import KNeighborsClassifier\n",
    "from sklearn.svm import SVC\n",
    "from sklearn.gaussian_process import GaussianProcessClassifier\n",
    "from sklearn.gaussian_process.kernels import RBF\n",
    "from sklearn.tree import DecisionTreeClassifier\n",
    "from sklearn.ensemble import ExtraTreesClassifier\n",
    "from sklearn.ensemble import RandomForestClassifier, AdaBoostClassifier\n",
    "from sklearn.naive_bayes import GaussianNB\n",
    "from sklearn.discriminant_analysis import QuadraticDiscriminantAnalysis\n",
    "from sklearn.metrics import accuracy_score\n",
    "from nltk import ngrams\n",
    "from sklearn.linear_model import LogisticRegression \n",
    "from sklearn.model_selection import train_test_split\n",
    "import time\n",
    "from sklearn.feature_extraction.text import CountVectorizer\n",
    "from sklearn.feature_extraction.text import TfidfTransformer\n",
    "from sklearn.svm import LinearSVC"
   ]
  },
  {
   "cell_type": "code",
   "execution_count": null,
   "metadata": {},
   "outputs": [],
   "source": [
    "import nltk\n",
    "nltk.download('stopwords')\n",
    "nltk.download('punkt')\n",
    "nltk.download('snowball_data')\n",
    "nltk.download('perluniprops')\n",
    "nltk.download('universal_tagset')\n",
    "nltk.download('stopwords')\n",
    "nltk.download('nonbreaking_prefixes')\n",
    "nltk.download('wordnet')"
   ]
  },
  {
   "cell_type": "markdown",
   "metadata": {},
   "source": [
    "# Парсинг необходимых данных с сайта https://www.banki.ru/"
   ]
  },
  {
   "cell_type": "code",
   "execution_count": 61,
   "metadata": {},
   "outputs": [],
   "source": [
    "texts = []\n",
    "ratings = []\n",
    "banks = []\n",
    "datas = []\n",
    "\n",
    "for i in range(1, 61): # На каждой странице по 25 отзывов. Нам нужно 1500. 1500/25=60\n",
    "    response = requests.get(\n",
    "        f'https://www.banki.ru/services/responses/list/product/debitcards/?page={i}&is_countable=on'\n",
    "    )\n",
    "    soup = bs(response.text, \"html.parser\")\n",
    "    script_content = soup.find(\"script\", type=\"application/ld+json\").string\n",
    "    while True:\n",
    "        if script_content.find(\"reviewBody\") == -1:\n",
    "            break\n",
    "        text = script_content[script_content.find(\"reviewBody\")+13:script_content[script_content.find(\"reviewBody\")+13:].find(\"\\\"\")+script_content.find(\"reviewBody\")+13]\n",
    "        # Оставим только русские буквы (чтобы избавиться от закодированных знаков)\n",
    "        cleaned_text = re.sub(r'[^А-Яа-яёЁ\\.]', ' ', text)\n",
    "        # Удаление лишних пробелов\n",
    "        cleaned_text = re.sub(r'\\s+', ' ', cleaned_text).strip()\n",
    "        texts.append(cleaned_text)\n",
    "        \n",
    "        ratings.append(script_content[script_content.find(\"ratingValue\")+14:script_content[script_content.find(\"ratingValue\")+14:].find(\"\\\"\")+script_content.find(\"ratingValue\")+14])\n",
    "        \n",
    "        banks.append(script_content[script_content.find(\"@type\\\":\\\"BankOrCreditUnion\")+43:script_content[script_content.find(\"@type\\\":\\\"BankOrCreditUnion\")+43:].find(\"\\\",\")+script_content.find(\"@type\\\":\\\"BankOrCreditUnion\")+43])\n",
    "        \n",
    "        datas.append(script_content[script_content.find(\"datePublished\")+16:script_content[script_content.find(\"datePublished\")+16:].find(\" \")+script_content.find(\"datePublished\")+16])\n",
    "\n",
    "        script_content = script_content[script_content.find(\"reviewBody\")+13:]"
   ]
  },
  {
   "cell_type": "code",
   "execution_count": 65,
   "metadata": {},
   "outputs": [
    {
     "data": {
      "text/plain": [
       "1500"
      ]
     },
     "execution_count": 65,
     "metadata": {},
     "output_type": "execute_result"
    }
   ],
   "source": [
    "len(datas)"
   ]
  },
  {
   "cell_type": "code",
   "execution_count": 297,
   "metadata": {},
   "outputs": [],
   "source": [
    "df = pd.DataFrame({'Feedback': texts, 'Rating': ratings, 'Bank': banks, 'Publication_date': datas})\n",
    "\n",
    "df.to_csv(\"my_data\", index=False)"
   ]
  },
  {
   "cell_type": "code",
   "execution_count": 298,
   "metadata": {},
   "outputs": [
    {
     "data": {
      "text/html": [
       "<div>\n",
       "<style scoped>\n",
       "    .dataframe tbody tr th:only-of-type {\n",
       "        vertical-align: middle;\n",
       "    }\n",
       "\n",
       "    .dataframe tbody tr th {\n",
       "        vertical-align: top;\n",
       "    }\n",
       "\n",
       "    .dataframe thead th {\n",
       "        text-align: right;\n",
       "    }\n",
       "</style>\n",
       "<table border=\"1\" class=\"dataframe\">\n",
       "  <thead>\n",
       "    <tr style=\"text-align: right;\">\n",
       "      <th></th>\n",
       "      <th>Feedback</th>\n",
       "      <th>Rating</th>\n",
       "      <th>Bank</th>\n",
       "      <th>Publication_date</th>\n",
       "    </tr>\n",
       "  </thead>\n",
       "  <tbody>\n",
       "    <tr>\n",
       "      <th>0</th>\n",
       "      <td>Хочу выразить благодарность сотруднику Валенти...</td>\n",
       "      <td>5</td>\n",
       "      <td>Газпромбанк</td>\n",
       "      <td>2023-09-20</td>\n",
       "    </tr>\n",
       "    <tr>\n",
       "      <th>1</th>\n",
       "      <td>В пешей доступности нет банкомата Уралсиба и я...</td>\n",
       "      <td>5</td>\n",
       "      <td>Газпромбанк</td>\n",
       "      <td>2023-09-19</td>\n",
       "    </tr>\n",
       "    <tr>\n",
       "      <th>2</th>\n",
       "      <td>Хочу выразить благодарность так как хорошее об...</td>\n",
       "      <td>1</td>\n",
       "      <td>Уралсиб</td>\n",
       "      <td>2023-09-19</td>\n",
       "    </tr>\n",
       "    <tr>\n",
       "      <th>3</th>\n",
       "      <td>Стал клиентом банка с марта года всё понравило...</td>\n",
       "      <td>4</td>\n",
       "      <td>Газпромбанк</td>\n",
       "      <td>2023-09-17</td>\n",
       "    </tr>\n",
       "    <tr>\n",
       "      <th>4</th>\n",
       "      <td>Интересовал вопрос по оформлению дебетовой кар...</td>\n",
       "      <td>5</td>\n",
       "      <td>Газпромбанк</td>\n",
       "      <td>2023-09-16</td>\n",
       "    </tr>\n",
       "    <tr>\n",
       "      <th>...</th>\n",
       "      <td>...</td>\n",
       "      <td>...</td>\n",
       "      <td>...</td>\n",
       "      <td>...</td>\n",
       "    </tr>\n",
       "    <tr>\n",
       "      <th>1495</th>\n",
       "      <td>. . г. обратился за консультацией в чат через ...</td>\n",
       "      <td>2</td>\n",
       "      <td>Альфа-Банк</td>\n",
       "      <td>2023-09-01</td>\n",
       "    </tr>\n",
       "    <tr>\n",
       "      <th>1496</th>\n",
       "      <td>Добрый день Решил получить дебетовую карту Аль...</td>\n",
       "      <td>5</td>\n",
       "      <td>Альфа-Банк</td>\n",
       "      <td>2023-09-01</td>\n",
       "    </tr>\n",
       "    <tr>\n",
       "      <th>1497</th>\n",
       "      <td>Добрый день. Хочу поблагодарить менеджера моск...</td>\n",
       "      <td>1</td>\n",
       "      <td>Альфа-Банк</td>\n",
       "      <td>2023-09-01</td>\n",
       "    </tr>\n",
       "    <tr>\n",
       "      <th>1498</th>\n",
       "      <td>Здравствуйте всем скажу вам так у меня есть мн...</td>\n",
       "      <td>5</td>\n",
       "      <td>Московский кредитный банк (МКБ)</td>\n",
       "      <td>2023-09-01</td>\n",
       "    </tr>\n",
       "    <tr>\n",
       "      <th>1499</th>\n",
       "      <td>Дочь увидев рекламу о детской карте альфа банк...</td>\n",
       "      <td>5</td>\n",
       "      <td>Альфа-Банк</td>\n",
       "      <td>2023-09-01</td>\n",
       "    </tr>\n",
       "  </tbody>\n",
       "</table>\n",
       "<p>1500 rows × 4 columns</p>\n",
       "</div>"
      ],
      "text/plain": [
       "                                               Feedback Rating  \\\n",
       "0     Хочу выразить благодарность сотруднику Валенти...      5   \n",
       "1     В пешей доступности нет банкомата Уралсиба и я...      5   \n",
       "2     Хочу выразить благодарность так как хорошее об...      1   \n",
       "3     Стал клиентом банка с марта года всё понравило...      4   \n",
       "4     Интересовал вопрос по оформлению дебетовой кар...      5   \n",
       "...                                                 ...    ...   \n",
       "1495  . . г. обратился за консультацией в чат через ...      2   \n",
       "1496  Добрый день Решил получить дебетовую карту Аль...      5   \n",
       "1497  Добрый день. Хочу поблагодарить менеджера моск...      1   \n",
       "1498  Здравствуйте всем скажу вам так у меня есть мн...      5   \n",
       "1499  Дочь увидев рекламу о детской карте альфа банк...      5   \n",
       "\n",
       "                                 Bank Publication_date  \n",
       "0                         Газпромбанк       2023-09-20  \n",
       "1                         Газпромбанк       2023-09-19  \n",
       "2                             Уралсиб       2023-09-19  \n",
       "3                         Газпромбанк       2023-09-17  \n",
       "4                         Газпромбанк       2023-09-16  \n",
       "...                               ...              ...  \n",
       "1495                       Альфа-Банк       2023-09-01  \n",
       "1496                       Альфа-Банк       2023-09-01  \n",
       "1497                       Альфа-Банк       2023-09-01  \n",
       "1498  Московский кредитный банк (МКБ)       2023-09-01  \n",
       "1499                       Альфа-Банк       2023-09-01  \n",
       "\n",
       "[1500 rows x 4 columns]"
      ]
     },
     "execution_count": 298,
     "metadata": {},
     "output_type": "execute_result"
    }
   ],
   "source": [
    "df"
   ]
  },
  {
   "cell_type": "markdown",
   "metadata": {},
   "source": [
    "# Анализ полученных данных"
   ]
  },
  {
   "cell_type": "code",
   "execution_count": 299,
   "metadata": {},
   "outputs": [],
   "source": [
    "df['Publication_date'] = pd.to_datetime(df['Publication_date'])"
   ]
  },
  {
   "cell_type": "code",
   "execution_count": 300,
   "metadata": {},
   "outputs": [],
   "source": [
    "bank_counts = df['Bank'].value_counts()"
   ]
  },
  {
   "cell_type": "code",
   "execution_count": 76,
   "metadata": {},
   "outputs": [
    {
     "data": {
      "text/plain": [
       "Тинькофф Банк                                      545\n",
       "Альфа-Банк                                         544\n",
       "Совкомбанк                                          80\n",
       "Газпромбанк                                         67\n",
       "Хоум Банк                                           48\n",
       "Банк «Открытие»                                     34\n",
       "ВТБ                                                 29\n",
       "Россельхозбанк                                      27\n",
       "Московский кредитный банк (МКБ)                     20\n",
       "МТС Банк                                            18\n",
       "Сбербанк                                            16\n",
       "Банк ОЗОН                                           11\n",
       "Ак Барс Банк                                         7\n",
       "Уральский банк реконструкции и развития (УБРиР)      6\n",
       "Русский Стандарт                                     6\n",
       "Почта Банк                                           6\n",
       "Банк Синара (СКБ-банк)                               5\n",
       "Уралсиб                                              4\n",
       "ОТП Банк                                             3\n",
       "Банк ТКБ                                             3\n",
       "Кредит Европа Банк                                   3\n",
       "Ингосстрах Банк                                      2\n",
       "РНКБ                                                 2\n",
       "Росбанк                                              2\n",
       "Банк ЗЕНИТ                                           2\n",
       "Банк «Пойдём!»                                       1\n",
       "Банк ДОМ.РФ                                          1\n",
       "Банк «Левобережный»                                  1\n",
       "Ренессанс Банк                                       1\n",
       "Точка                                                1\n",
       "Кубань Кредит                                        1\n",
       "ЮMoney                                               1\n",
       "Промсвязьбанк                                        1\n",
       "Фора-Банк                                            1\n",
       "Райффайзен Банк                                      1\n",
       "Name: Bank, dtype: int64"
      ]
     },
     "execution_count": 76,
     "metadata": {},
     "output_type": "execute_result"
    }
   ],
   "source": [
    "bank_counts"
   ]
  },
  {
   "cell_type": "markdown",
   "metadata": {},
   "source": [
    "Объединим банки, которые реже встречаются в таблице, в категорию \"Другое\""
   ]
  },
  {
   "cell_type": "code",
   "execution_count": 301,
   "metadata": {},
   "outputs": [],
   "source": [
    "df['Bank'] = df.apply(lambda row: row['Bank'] if bank_counts[row['Bank']] >= bank_counts.mean() else 'Другое', axis=1)\n",
    "\n",
    "bank_counts = df['Bank'].value_counts()"
   ]
  },
  {
   "cell_type": "code",
   "execution_count": 81,
   "metadata": {},
   "outputs": [
    {
     "data": {
      "image/png": "[encoded data removed]",
      "text/plain": [
       "<Figure size 640x480 with 1 Axes>"
      ]
     },
     "metadata": {},
     "output_type": "display_data"
    }
   ],
   "source": [
    "bank_counts.plot.barh()\n",
    "\n",
    "plt.xlabel('Количество записей')\n",
    "plt.ylabel('Название банка')\n",
    "\n",
    "plt.show()"
   ]
  },
  {
   "cell_type": "markdown",
   "metadata": {},
   "source": [
    "Из диаграммы можно сделать вывод, что больше всего отзывов было оставлено банку Тинькофф. Посмотрим, какие это отзывы."
   ]
  },
  {
   "cell_type": "code",
   "execution_count": 302,
   "metadata": {},
   "outputs": [
    {
     "data": {
      "text/plain": [
       "33      5\n",
       "35      5\n",
       "36      5\n",
       "37      5\n",
       "39      5\n",
       "       ..\n",
       "1484    5\n",
       "1485    5\n",
       "1486    5\n",
       "1489    5\n",
       "1491    5\n",
       "Name: Rating, Length: 545, dtype: object"
      ]
     },
     "execution_count": 302,
     "metadata": {},
     "output_type": "execute_result"
    }
   ],
   "source": [
    "df[df['Bank'] == \"Тинькофф Банк\"][\"Rating\"]"
   ]
  },
  {
   "cell_type": "code",
   "execution_count": 96,
   "metadata": {},
   "outputs": [],
   "source": [
    "bank_rating_tink = df[df['Bank'] == \"Тинькофф Банк\"][\"Rating\"].value_counts()"
   ]
  },
  {
   "cell_type": "code",
   "execution_count": 98,
   "metadata": {},
   "outputs": [
    {
     "data": {
      "image/png": "[encoded data removed]",
      "text/plain": [
       "<Figure size 640x480 with 1 Axes>"
      ]
     },
     "metadata": {},
     "output_type": "display_data"
    }
   ],
   "source": [
    "bank_rating_tink.plot(kind='bar', xlabel='Оценка', ylabel='Количество отзывов', title='Тинькофф Банк')\n",
    "plt.show()"
   ]
  },
  {
   "cell_type": "markdown",
   "metadata": {},
   "source": [
    "Наблюдаем явный дисбаланс классов. Скорее всего это будет отслеживаться и относительно всех данных в таблице. Построим диаграмму распределения оценок."
   ]
  },
  {
   "cell_type": "code",
   "execution_count": 99,
   "metadata": {},
   "outputs": [
    {
     "data": {
      "image/png": "[encoded data removed]",
      "text/plain": [
       "<Figure size 600x600 with 1 Axes>"
      ]
     },
     "metadata": {},
     "output_type": "display_data"
    }
   ],
   "source": [
    "rating_counts = df['Rating'].value_counts()\n",
    "\n",
    "plt.figure(figsize=(6, 6))\n",
    "plt.pie(rating_counts, labels=rating_counts.index, autopct='%1.1f%%', startangle=140)\n",
    "plt.title('Распределение оценок')\n",
    "plt.axis('equal') \n",
    "\n",
    "plt.show()"
   ]
  },
  {
   "cell_type": "markdown",
   "metadata": {},
   "source": [
    "Наблюдаем явный дисбаланс классов. После предобработки воспользуемся случайным дублированием."
   ]
  },
  {
   "cell_type": "markdown",
   "metadata": {},
   "source": [
    "# Нормализация"
   ]
  },
  {
   "cell_type": "code",
   "execution_count": 304,
   "metadata": {},
   "outputs": [],
   "source": [
    "sw = stopwords.words('russian')\n",
    "punct = '!\"#$%&()*\\+,-\\./:;<=>?@\\[\\]^_`{|}~„“«»†*\\—/\\-‘’'\n",
    "snowball = SnowballStemmer(\"russian\")\n",
    "def good_words(text):\n",
    "    #удаляем знаки препинания\n",
    "    text = re.sub(r'[{}]'.format(re.escape(punct)), '', text)\n",
    "    #токенизация\n",
    "    text = word_tokenize(text)\n",
    "    #Преобразование регистра\n",
    "    text = [w.lower() for w in text if w != '']\n",
    "    #удаляем стоп-слова\n",
    "    text = [w for w in text if w not in sw]\n",
    "    #стемминг\n",
    "    text = [snowball.stem(w) for w in text]\n",
    "    return ' '.join(set(text))"
   ]
  },
  {
   "cell_type": "code",
   "execution_count": 305,
   "metadata": {},
   "outputs": [],
   "source": [
    "df['Data'] = df['Feedback'].apply(good_words)"
   ]
  },
  {
   "cell_type": "code",
   "execution_count": 306,
   "metadata": {},
   "outputs": [],
   "source": [
    "df['Rating'] = df['Rating'].astype(int)"
   ]
  },
  {
   "cell_type": "code",
   "execution_count": 307,
   "metadata": {},
   "outputs": [
    {
     "data": {
      "text/html": [
       "<div>\n",
       "<style scoped>\n",
       "    .dataframe tbody tr th:only-of-type {\n",
       "        vertical-align: middle;\n",
       "    }\n",
       "\n",
       "    .dataframe tbody tr th {\n",
       "        vertical-align: top;\n",
       "    }\n",
       "\n",
       "    .dataframe thead th {\n",
       "        text-align: right;\n",
       "    }\n",
       "</style>\n",
       "<table border=\"1\" class=\"dataframe\">\n",
       "  <thead>\n",
       "    <tr style=\"text-align: right;\">\n",
       "      <th></th>\n",
       "      <th>Feedback</th>\n",
       "      <th>Rating</th>\n",
       "      <th>Bank</th>\n",
       "      <th>Publication_date</th>\n",
       "      <th>Data</th>\n",
       "    </tr>\n",
       "  </thead>\n",
       "  <tbody>\n",
       "    <tr>\n",
       "      <th>0</th>\n",
       "      <td>Хочу выразить благодарность сотруднику Валенти...</td>\n",
       "      <td>5</td>\n",
       "      <td>Газпромбанк</td>\n",
       "      <td>2023-09-20</td>\n",
       "      <td>сотрудник так возможн хорош дальш подписк мил ...</td>\n",
       "    </tr>\n",
       "    <tr>\n",
       "      <th>1</th>\n",
       "      <td>В пешей доступности нет банкомата Уралсиба и я...</td>\n",
       "      <td>5</td>\n",
       "      <td>Газпромбанк</td>\n",
       "      <td>2023-09-19</td>\n",
       "      <td>сентябр втб дня отвратительн списан ошибочн со...</td>\n",
       "    </tr>\n",
       "    <tr>\n",
       "      <th>2</th>\n",
       "      <td>Хочу выразить благодарность так как хорошее об...</td>\n",
       "      <td>1</td>\n",
       "      <td>Другое</td>\n",
       "      <td>2023-09-19</td>\n",
       "      <td>корректн дня сотрудник сильн ряд хорош хот про...</td>\n",
       "    </tr>\n",
       "    <tr>\n",
       "      <th>3</th>\n",
       "      <td>Стал клиентом банка с марта года всё понравило...</td>\n",
       "      <td>4</td>\n",
       "      <td>Газпромбанк</td>\n",
       "      <td>2023-09-17</td>\n",
       "      <td>втб кэшбэк хорош кредитн плох убежа март месяц...</td>\n",
       "    </tr>\n",
       "    <tr>\n",
       "      <th>4</th>\n",
       "      <td>Интересовал вопрос по оформлению дебетовой кар...</td>\n",
       "      <td>5</td>\n",
       "      <td>Газпромбанк</td>\n",
       "      <td>2023-09-16</td>\n",
       "      <td>обязательн отсутств лин лишн подробн оформлен ...</td>\n",
       "    </tr>\n",
       "    <tr>\n",
       "      <th>...</th>\n",
       "      <td>...</td>\n",
       "      <td>...</td>\n",
       "      <td>...</td>\n",
       "      <td>...</td>\n",
       "      <td>...</td>\n",
       "    </tr>\n",
       "    <tr>\n",
       "      <th>1495</th>\n",
       "      <td>. . г. обратился за консультацией в чат через ...</td>\n",
       "      <td>2</td>\n",
       "      <td>Альфа-Банк</td>\n",
       "      <td>2023-09-01</td>\n",
       "      <td>абхаз возможн российск звезд александр границ ...</td>\n",
       "    </tr>\n",
       "    <tr>\n",
       "      <th>1496</th>\n",
       "      <td>Добрый день Решил получить дебетовую карту Аль...</td>\n",
       "      <td>5</td>\n",
       "      <td>Альфа-Банк</td>\n",
       "      <td>2023-09-01</td>\n",
       "      <td>эт происход росбанк соглас карт сказа мо добр ...</td>\n",
       "    </tr>\n",
       "    <tr>\n",
       "      <th>1497</th>\n",
       "      <td>Добрый день. Хочу поблагодарить менеджера моск...</td>\n",
       "      <td>1</td>\n",
       "      <td>Альфа-Банк</td>\n",
       "      <td>2023-09-01</td>\n",
       "      <td>сотрудник так анастас сформулирова приветлив к...</td>\n",
       "    </tr>\n",
       "    <tr>\n",
       "      <th>1498</th>\n",
       "      <td>Здравствуйте всем скажу вам так у меня есть мн...</td>\n",
       "      <td>5</td>\n",
       "      <td>Другое</td>\n",
       "      <td>2023-09-01</td>\n",
       "      <td>любим перевод эт ол пальц вежлив дел бог альфа...</td>\n",
       "    </tr>\n",
       "    <tr>\n",
       "      <th>1499</th>\n",
       "      <td>Дочь увидев рекламу о детской карте альфа банк...</td>\n",
       "      <td>5</td>\n",
       "      <td>Альфа-Банк</td>\n",
       "      <td>2023-09-01</td>\n",
       "      <td>дополнительн общ доч наклейк удобн дар пожелан...</td>\n",
       "    </tr>\n",
       "  </tbody>\n",
       "</table>\n",
       "<p>1500 rows × 5 columns</p>\n",
       "</div>"
      ],
      "text/plain": [
       "                                               Feedback  Rating         Bank  \\\n",
       "0     Хочу выразить благодарность сотруднику Валенти...       5  Газпромбанк   \n",
       "1     В пешей доступности нет банкомата Уралсиба и я...       5  Газпромбанк   \n",
       "2     Хочу выразить благодарность так как хорошее об...       1       Другое   \n",
       "3     Стал клиентом банка с марта года всё понравило...       4  Газпромбанк   \n",
       "4     Интересовал вопрос по оформлению дебетовой кар...       5  Газпромбанк   \n",
       "...                                                 ...     ...          ...   \n",
       "1495  . . г. обратился за консультацией в чат через ...       2   Альфа-Банк   \n",
       "1496  Добрый день Решил получить дебетовую карту Аль...       5   Альфа-Банк   \n",
       "1497  Добрый день. Хочу поблагодарить менеджера моск...       1   Альфа-Банк   \n",
       "1498  Здравствуйте всем скажу вам так у меня есть мн...       5       Другое   \n",
       "1499  Дочь увидев рекламу о детской карте альфа банк...       5   Альфа-Банк   \n",
       "\n",
       "     Publication_date                                               Data  \n",
       "0          2023-09-20  сотрудник так возможн хорош дальш подписк мил ...  \n",
       "1          2023-09-19  сентябр втб дня отвратительн списан ошибочн со...  \n",
       "2          2023-09-19  корректн дня сотрудник сильн ряд хорош хот про...  \n",
       "3          2023-09-17  втб кэшбэк хорош кредитн плох убежа март месяц...  \n",
       "4          2023-09-16  обязательн отсутств лин лишн подробн оформлен ...  \n",
       "...               ...                                                ...  \n",
       "1495       2023-09-01  абхаз возможн российск звезд александр границ ...  \n",
       "1496       2023-09-01  эт происход росбанк соглас карт сказа мо добр ...  \n",
       "1497       2023-09-01  сотрудник так анастас сформулирова приветлив к...  \n",
       "1498       2023-09-01  любим перевод эт ол пальц вежлив дел бог альфа...  \n",
       "1499       2023-09-01  дополнительн общ доч наклейк удобн дар пожелан...  \n",
       "\n",
       "[1500 rows x 5 columns]"
      ]
     },
     "execution_count": 307,
     "metadata": {},
     "output_type": "execute_result"
    }
   ],
   "source": [
    "df"
   ]
  },
  {
   "cell_type": "markdown",
   "metadata": {},
   "source": [
    "Теперь займемся дисбалансом классов. Сделаем дубли классов, которых недостает."
   ]
  },
  {
   "cell_type": "code",
   "execution_count": 343,
   "metadata": {},
   "outputs": [],
   "source": [
    "class_1 = df[df['Rating'] == 1]\n",
    "class_2 = df[df['Rating'] == 2]\n",
    "class_3 = df[df['Rating'] == 3]\n",
    "class_4 = df[df['Rating'] == 4]\n",
    "class_5 = df[df['Rating'] == 5]\n",
    "\n",
    "# Определяем размер, до которого нужно увеличить/уменьшить каждый класс\n",
    "desired_class_size = 300\n",
    "\n",
    "# Применяем случайное дублирование для каждого класса\n",
    "class_1_resampled = resample(class_1, replace=True, n_samples=desired_class_size, random_state=42)\n",
    "class_2_resampled = resample(class_2, replace=True, n_samples=desired_class_size, random_state=42)\n",
    "class_3_resampled = resample(class_3, replace=True, n_samples=desired_class_size, random_state=42)\n",
    "class_4_resampled = resample(class_4, replace=True, n_samples=desired_class_size, random_state=42)\n",
    "class_5_resampled = resample(class_5, replace=True, n_samples=desired_class_size, random_state=42)\n",
    "\n",
    "# Объединяем дублированные классы\n",
    "resampled_data = pd.concat([class_1_resampled, class_2_resampled, class_3_resampled, class_4_resampled, class_5_resampled])\n",
    "\n",
    "# Перемешиваем данные\n",
    "resampled_data = resampled_data.sample(frac=1, random_state=42)"
   ]
  },
  {
   "cell_type": "markdown",
   "metadata": {},
   "source": [
    "Проверим распределение классов теперь"
   ]
  },
  {
   "cell_type": "code",
   "execution_count": 344,
   "metadata": {},
   "outputs": [
    {
     "data": {
      "image/png": "[encoded data removed]",
      "text/plain": [
       "<Figure size 600x600 with 1 Axes>"
      ]
     },
     "metadata": {},
     "output_type": "display_data"
    }
   ],
   "source": [
    "rating_counts = resampled_data['Rating'].value_counts()\n",
    "\n",
    "plt.figure(figsize=(6, 6))\n",
    "plt.pie(rating_counts, labels=rating_counts.index, autopct='%1.1f%%', startangle=140)\n",
    "plt.title('Распределение оценок')\n",
    "plt.axis('equal')  \n",
    "\n",
    "plt.show()"
   ]
  },
  {
   "cell_type": "markdown",
   "metadata": {},
   "source": [
    "# Выбор метода машинного обучения"
   ]
  },
  {
   "cell_type": "code",
   "execution_count": 335,
   "metadata": {},
   "outputs": [],
   "source": [
    "y = resampled_data['Rating']"
   ]
  },
  {
   "cell_type": "code",
   "execution_count": 336,
   "metadata": {},
   "outputs": [],
   "source": [
    "vec = CountVectorizer()\n",
    "\n",
    "X = vec.fit_transform(resampled_data[\"Data\"])"
   ]
  },
  {
   "cell_type": "code",
   "execution_count": 337,
   "metadata": {},
   "outputs": [],
   "source": [
    "X = X.toarray()"
   ]
  },
  {
   "cell_type": "code",
   "execution_count": 338,
   "metadata": {},
   "outputs": [],
   "source": [
    "x_train, x_test, y_train, y_test = train_test_split(X, y)"
   ]
  },
  {
   "cell_type": "code",
   "execution_count": 279,
   "metadata": {},
   "outputs": [
    {
     "name": "stdout",
     "output_type": "stream",
     "text": [
      "[[0.70710678 0.70710678 0.         ... 0.         0.         0.        ]]\n"
     ]
    }
   ],
   "source": [
    "def text_to_vector(text, vector_size):\n",
    "    # Создаем объект TF-IDF векторизатора с заданным размером\n",
    "    vectorizer = TfidfVectorizer(max_features=vector_size, lowercase=True, stop_words='english')\n",
    "    \n",
    "    # Преобразуем текст в TF-IDF вектор\n",
    "    tfidf_vector = vectorizer.fit_transform([text])\n",
    "    \n",
    "    # Преобразуем разреженную матрицу в плотный массив\n",
    "    dense_vector = tfidf_vector.toarray()\n",
    "    \n",
    "    # Если размер вектора меньше заданного, дополним нулями\n",
    "    if dense_vector.shape[1] < vector_size:\n",
    "        padding = np.zeros((1, vector_size - dense_vector.shape[1]))\n",
    "        dense_vector = np.hstack((dense_vector, padding))\n",
    "    \n",
    "    return dense_vector\n",
    "\n",
    "# Пример использования:\n",
    "text = good_words(\"банк тинькофф\")\n",
    "vector_size = 6967  # Размер вектора\n",
    "\n",
    "result_vector = text_to_vector(text, vector_size)\n",
    "print(result_vector)"
   ]
  },
  {
   "cell_type": "code",
   "execution_count": 280,
   "metadata": {},
   "outputs": [
    {
     "data": {
      "text/plain": [
       "array([3])"
      ]
     },
     "execution_count": 280,
     "metadata": {},
     "output_type": "execute_result"
    }
   ],
   "source": [
    "classifier.predict(result_vector)"
   ]
  },
  {
   "cell_type": "code",
   "execution_count": 377,
   "metadata": {},
   "outputs": [],
   "source": [
    "names = [\"Nearest_Neighbors\", \"Linear_SVM\", \"Polynomial_SVM\", \"RBF_SVM\",\n",
    "         \"Gradient_Boosting\", \"Decision_Tree\", \"Extra_Trees\", \"Random_Forest\", \"Neural_Net\", \"AdaBoost\"]\n",
    "\n",
    "classifiers = [\n",
    "    KNeighborsClassifier(3),\n",
    "    SVC(kernel=\"linear\", C=0.025),\n",
    "    SVC(kernel=\"poly\", degree=3, C=0.025),\n",
    "    SVC(kernel=\"rbf\", C=1, gamma=2),\n",
    "    GradientBoostingClassifier(n_estimators=100, learning_rate=1.0),\n",
    "    DecisionTreeClassifier(max_depth=5),\n",
    "    ExtraTreesClassifier(n_estimators=10, min_samples_split=2),\n",
    "    RandomForestClassifier(max_depth=5, n_estimators=100),\n",
    "    MLPClassifier(alpha=1, max_iter=1000),\n",
    "    AdaBoostClassifier(n_estimators=100),\n",
    "    GaussianNB()]"
   ]
  },
  {
   "cell_type": "code",
   "execution_count": 378,
   "metadata": {},
   "outputs": [
    {
     "name": "stdout",
     "output_type": "stream",
     "text": [
      "Nearest_Neighbors обучена\n",
      "Linear_SVM обучена\n",
      "Polynomial_SVM обучена\n",
      "RBF_SVM обучена\n",
      "Gradient_Boosting обучена\n",
      "Decision_Tree обучена\n",
      "Extra_Trees обучена\n",
      "Random_Forest обучена\n",
      "Neural_Net обучена\n",
      "AdaBoost обучена\n"
     ]
    }
   ],
   "source": [
    "scores = []\n",
    "times = []\n",
    "\n",
    "for name, clf in zip(names, classifiers):\n",
    "    start_time = time.time()  # Запускаем счетчик времени\n",
    "    clf.fit(X_train_tfidf, y_train)\n",
    "    end_time = time.time()  # Останавливаем счетчик времени\n",
    "    training_time = end_time - start_time  # Вычисляем время обучения\n",
    "    print(f\"{name} обучена\")\n",
    "    y_pred = clf.predict(x_test)\n",
    "    score = accuracy_score(y_pred, y_test)\n",
    "    scores.append(score)\n",
    "    times.append(training_time) "
   ]
  },
  {
   "cell_type": "code",
   "execution_count": 380,
   "metadata": {},
   "outputs": [
    {
     "data": {
      "text/html": [
       "<div>\n",
       "<style scoped>\n",
       "    .dataframe tbody tr th:only-of-type {\n",
       "        vertical-align: middle;\n",
       "    }\n",
       "\n",
       "    .dataframe tbody tr th {\n",
       "        vertical-align: top;\n",
       "    }\n",
       "\n",
       "    .dataframe thead th {\n",
       "        text-align: right;\n",
       "    }\n",
       "</style>\n",
       "<table border=\"1\" class=\"dataframe\">\n",
       "  <thead>\n",
       "    <tr style=\"text-align: right;\">\n",
       "      <th></th>\n",
       "      <th>name</th>\n",
       "      <th>score</th>\n",
       "      <th>time</th>\n",
       "    </tr>\n",
       "  </thead>\n",
       "  <tbody>\n",
       "    <tr>\n",
       "      <th>2</th>\n",
       "      <td>Polynomial_SVM</td>\n",
       "      <td>0.925333</td>\n",
       "      <td>0.454140</td>\n",
       "    </tr>\n",
       "    <tr>\n",
       "      <th>6</th>\n",
       "      <td>Extra_Trees</td>\n",
       "      <td>0.898667</td>\n",
       "      <td>0.141827</td>\n",
       "    </tr>\n",
       "    <tr>\n",
       "      <th>0</th>\n",
       "      <td>Nearest_Neighbors</td>\n",
       "      <td>0.837333</td>\n",
       "      <td>0.003766</td>\n",
       "    </tr>\n",
       "    <tr>\n",
       "      <th>8</th>\n",
       "      <td>Neural_Net</td>\n",
       "      <td>0.834667</td>\n",
       "      <td>22.193392</td>\n",
       "    </tr>\n",
       "    <tr>\n",
       "      <th>4</th>\n",
       "      <td>Gradient_Boosting</td>\n",
       "      <td>0.746667</td>\n",
       "      <td>9.705486</td>\n",
       "    </tr>\n",
       "    <tr>\n",
       "      <th>1</th>\n",
       "      <td>Linear_SVM</td>\n",
       "      <td>0.632000</td>\n",
       "      <td>0.448356</td>\n",
       "    </tr>\n",
       "    <tr>\n",
       "      <th>7</th>\n",
       "      <td>Random_Forest</td>\n",
       "      <td>0.485333</td>\n",
       "      <td>0.229191</td>\n",
       "    </tr>\n",
       "    <tr>\n",
       "      <th>9</th>\n",
       "      <td>AdaBoost</td>\n",
       "      <td>0.376000</td>\n",
       "      <td>2.675862</td>\n",
       "    </tr>\n",
       "    <tr>\n",
       "      <th>5</th>\n",
       "      <td>Decision_Tree</td>\n",
       "      <td>0.330667</td>\n",
       "      <td>0.031255</td>\n",
       "    </tr>\n",
       "    <tr>\n",
       "      <th>3</th>\n",
       "      <td>RBF_SVM</td>\n",
       "      <td>0.157333</td>\n",
       "      <td>0.239539</td>\n",
       "    </tr>\n",
       "  </tbody>\n",
       "</table>\n",
       "</div>"
      ],
      "text/plain": [
       "                name     score       time\n",
       "2     Polynomial_SVM  0.925333   0.454140\n",
       "6        Extra_Trees  0.898667   0.141827\n",
       "0  Nearest_Neighbors  0.837333   0.003766\n",
       "8         Neural_Net  0.834667  22.193392\n",
       "4  Gradient_Boosting  0.746667   9.705486\n",
       "1         Linear_SVM  0.632000   0.448356\n",
       "7      Random_Forest  0.485333   0.229191\n",
       "9           AdaBoost  0.376000   2.675862\n",
       "5      Decision_Tree  0.330667   0.031255\n",
       "3            RBF_SVM  0.157333   0.239539"
      ]
     },
     "execution_count": 380,
     "metadata": {},
     "output_type": "execute_result"
    }
   ],
   "source": [
    "scoring = pd.DataFrame()\n",
    "scoring['name'] = names\n",
    "scoring['score'] = scores\n",
    "scoring['time'] = times\n",
    "scoring.sort_values(by=[\"score\"], ascending=False, inplace=True)\n",
    "scoring"
   ]
  },
  {
   "cell_type": "code",
   "execution_count": 382,
   "metadata": {},
   "outputs": [
    {
     "data": {
      "text/html": [
       "<style>#sk-container-id-10 {color: black;background-color: white;}#sk-container-id-10 pre{padding: 0;}#sk-container-id-10 div.sk-toggleable {background-color: white;}#sk-container-id-10 label.sk-toggleable__label {cursor: pointer;display: block;width: 100%;margin-bottom: 0;padding: 0.3em;box-sizing: border-box;text-align: center;}#sk-container-id-10 label.sk-toggleable__label-arrow:before {content: \"▸\";float: left;margin-right: 0.25em;color: #696969;}#sk-container-id-10 label.sk-toggleable__label-arrow:hover:before {color: black;}#sk-container-id-10 div.sk-estimator:hover label.sk-toggleable__label-arrow:before {color: black;}#sk-container-id-10 div.sk-toggleable__content {max-height: 0;max-width: 0;overflow: hidden;text-align: left;background-color: #f0f8ff;}#sk-container-id-10 div.sk-toggleable__content pre {margin: 0.2em;color: black;border-radius: 0.25em;background-color: #f0f8ff;}#sk-container-id-10 input.sk-toggleable__control:checked~div.sk-toggleable__content {max-height: 200px;max-width: 100%;overflow: auto;}#sk-container-id-10 input.sk-toggleable__control:checked~label.sk-toggleable__label-arrow:before {content: \"▾\";}#sk-container-id-10 div.sk-estimator input.sk-toggleable__control:checked~label.sk-toggleable__label {background-color: #d4ebff;}#sk-container-id-10 div.sk-label input.sk-toggleable__control:checked~label.sk-toggleable__label {background-color: #d4ebff;}#sk-container-id-10 input.sk-hidden--visually {border: 0;clip: rect(1px 1px 1px 1px);clip: rect(1px, 1px, 1px, 1px);height: 1px;margin: -1px;overflow: hidden;padding: 0;position: absolute;width: 1px;}#sk-container-id-10 div.sk-estimator {font-family: monospace;background-color: #f0f8ff;border: 1px dotted black;border-radius: 0.25em;box-sizing: border-box;margin-bottom: 0.5em;}#sk-container-id-10 div.sk-estimator:hover {background-color: #d4ebff;}#sk-container-id-10 div.sk-parallel-item::after {content: \"\";width: 100%;border-bottom: 1px solid gray;flex-grow: 1;}#sk-container-id-10 div.sk-label:hover label.sk-toggleable__label {background-color: #d4ebff;}#sk-container-id-10 div.sk-serial::before {content: \"\";position: absolute;border-left: 1px solid gray;box-sizing: border-box;top: 0;bottom: 0;left: 50%;z-index: 0;}#sk-container-id-10 div.sk-serial {display: flex;flex-direction: column;align-items: center;background-color: white;padding-right: 0.2em;padding-left: 0.2em;position: relative;}#sk-container-id-10 div.sk-item {position: relative;z-index: 1;}#sk-container-id-10 div.sk-parallel {display: flex;align-items: stretch;justify-content: center;background-color: white;position: relative;}#sk-container-id-10 div.sk-item::before, #sk-container-id-10 div.sk-parallel-item::before {content: \"\";position: absolute;border-left: 1px solid gray;box-sizing: border-box;top: 0;bottom: 0;left: 50%;z-index: -1;}#sk-container-id-10 div.sk-parallel-item {display: flex;flex-direction: column;z-index: 1;position: relative;background-color: white;}#sk-container-id-10 div.sk-parallel-item:first-child::after {align-self: flex-end;width: 50%;}#sk-container-id-10 div.sk-parallel-item:last-child::after {align-self: flex-start;width: 50%;}#sk-container-id-10 div.sk-parallel-item:only-child::after {width: 0;}#sk-container-id-10 div.sk-dashed-wrapped {border: 1px dashed gray;margin: 0 0.4em 0.5em 0.4em;box-sizing: border-box;padding-bottom: 0.4em;background-color: white;}#sk-container-id-10 div.sk-label label {font-family: monospace;font-weight: bold;display: inline-block;line-height: 1.2em;}#sk-container-id-10 div.sk-label-container {text-align: center;}#sk-container-id-10 div.sk-container {/* jupyter's `normalize.less` sets `[hidden] { display: none; }` but bootstrap.min.css set `[hidden] { display: none !important; }` so we also need the `!important` here to be able to override the default hidden behavior on the sphinx rendered scikit-learn.org. See: https://github.com/scikit-learn/scikit-learn/issues/21755 */display: inline-block !important;position: relative;}#sk-container-id-10 div.sk-text-repr-fallback {display: none;}</style><div id=\"sk-container-id-10\" class=\"sk-top-container\"><div class=\"sk-text-repr-fallback\"><pre>SVC(C=0.025, kernel=&#x27;poly&#x27;)</pre><b>In a Jupyter environment, please rerun this cell to show the HTML representation or trust the notebook. <br />On GitHub, the HTML representation is unable to render, please try loading this page with nbviewer.org.</b></div><div class=\"sk-container\" hidden><div class=\"sk-item\"><div class=\"sk-estimator sk-toggleable\"><input class=\"sk-toggleable__control sk-hidden--visually\" id=\"sk-estimator-id-10\" type=\"checkbox\" checked><label for=\"sk-estimator-id-10\" class=\"sk-toggleable__label sk-toggleable__label-arrow\">SVC</label><div class=\"sk-toggleable__content\"><pre>SVC(C=0.025, kernel=&#x27;poly&#x27;)</pre></div></div></div></div></div>"
      ],
      "text/plain": [
       "SVC(C=0.025, kernel='poly')"
      ]
     },
     "execution_count": 382,
     "metadata": {},
     "output_type": "execute_result"
    }
   ],
   "source": [
    "model = SVC(kernel=\"poly\", degree=3, C=0.025)\n",
    "model.fit(X_train_tfidf, y_train)"
   ]
  },
  {
   "cell_type": "markdown",
   "metadata": {},
   "source": [
    "# Сохранение модели"
   ]
  },
  {
   "cell_type": "code",
   "execution_count": 385,
   "metadata": {},
   "outputs": [],
   "source": [
    "with open('model.pickle', 'wb') as f:\n",
    "    pickle.dump(model, f)"
   ]
  },
  {
   "cell_type": "code",
   "execution_count": null,
   "metadata": {},
   "outputs": [],
   "source": []
  }
 ],
 "metadata": {
  "kernelspec": {
   "display_name": "Python 3 (ipykernel)",
   "language": "python",
   "name": "python3"
  },
  "language_info": {
   "codemirror_mode": {
    "name": "ipython",
    "version": 3
   },
   "file_extension": ".py",
   "mimetype": "text/x-python",
   "name": "python",
   "nbconvert_exporter": "python",
   "pygments_lexer": "ipython3",
   "version": "3.10.9"
  }
 },
 "nbformat": 4,
 "nbformat_minor": 2
}
